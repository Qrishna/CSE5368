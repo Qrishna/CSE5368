{
  "nbformat": 4,
  "nbformat_minor": 0,
  "metadata": {
    "colab": {
      "provenance": [],
      "collapsed_sections": [],
      "authorship_tag": "ABX9TyOz/XAh2h2Xvl8+qJydCdXr",
      "include_colab_link": true
    },
    "kernelspec": {
      "name": "python3",
      "display_name": "Python 3"
    },
    "language_info": {
      "name": "python"
    }
  },
  "cells": [
    {
      "cell_type": "markdown",
      "metadata": {
        "id": "view-in-github",
        "colab_type": "text"
      },
      "source": [
        "<a href=\"https://colab.research.google.com/github/farhadkamangar/CSE5368/blob/master/tensorflow_multi_layer_with_graph_example.ipynb\" target=\"_parent\"><img src=\"https://colab.research.google.com/assets/colab-badge.svg\" alt=\"Open In Colab\"/></a>"
      ]
    },
    {
      "cell_type": "code",
      "execution_count": null,
      "metadata": {
        "id": "QaCEGTiu9vo2"
      },
      "outputs": [],
      "source": [
        "import tensorflow as tf\n",
        "from datetime import datetime\n",
        "\n",
        "%load_ext tensorboard"
      ]
    },
    {
      "cell_type": "code",
      "source": [
        "class FlexibleDenseLayer(tf.Module):\n",
        "  def __init__(self, number_of_nodes, name=None):\n",
        "    super().__init__(name=name)\n",
        "    self.first_time=True\n",
        "    self.number_of_nodes=number_of_nodes\n",
        "    \n",
        "  def calculate_output(self, x):\n",
        "    if self.first_time:\n",
        "      self.w = tf.Variable(tf.random.normal([x.shape[-1], self.number_of_nodes]), name='weights')\n",
        "      self.b = tf.Variable(tf.zeros([self.number_of_nodes]), name='biases')\n",
        "      self.first_time=False\n",
        "    y = tf.matmul(x, self.w) + self.b\n",
        "    # return tf.nn.hard_tanh(y)\n",
        "    # return tf.nn.relu(y)\n",
        "    return y"
      ],
      "metadata": {
        "id": "tgwA1djO-rHq"
      },
      "execution_count": null,
      "outputs": []
    },
    {
      "cell_type": "code",
      "source": [
        "class MultiLayer_NN(tf.Module):\n",
        "  def __init__(self, name=None):\n",
        "    super().__init__(name=name)\n",
        "\n",
        "    self.layer_1 = FlexibleDenseLayer(number_of_nodes=3)\n",
        "    self.layer_2 = FlexibleDenseLayer(number_of_nodes=5)\n",
        "\n",
        "  def predict(self, x):\n",
        "    x = self.layer_1.calculate_output(x)\n",
        "    return self.layer_2.calculate_output(x)\n",
        "\n",
        "my_model = MultiLayer_NN(name=\"the_model\")\n",
        "\n",
        "output_of_model=my_model.predict(tf.constant([[1.0, 2.0, 3.0]]))\n",
        "print(\"Model results:\", output_of_model)\n",
        "print(\"Weights \", my_model.layer_2.w)\n",
        "print(\"Submodules:\", my_model.submodules)\n",
        "for var in my_model.variables:\n",
        "  print(var, \"\\n\")"
      ],
      "metadata": {
        "colab": {
          "base_uri": "https://localhost:8080/"
        },
        "id": "1tAP58ldACAB",
        "outputId": "35b6fea5-bc6f-4fa4-837b-6c5f5552d8f6"
      },
      "execution_count": null,
      "outputs": [
        {
          "output_type": "stream",
          "name": "stdout",
          "text": [
            "Model results: tf.Tensor([[ 3.3240354  0.         5.936384   0.         4.940175  11.829053 ]], shape=(1, 6), dtype=float32)\n",
            "Weights  <tf.Variable 'weights:0' shape=(3, 6) dtype=float32, numpy=\n",
            "array([[ 0.8721237 , -0.10960671,  0.96784043, -0.12975301,  1.4159669 ,\n",
            "        -0.62478286],\n",
            "       [-0.27331188, -0.7469185 ,  1.3878955 ,  0.7425421 ,  0.13886489,\n",
            "        -0.63346016],\n",
            "       [ 0.35855648, -0.23694906,  0.8342599 , -1.3569158 ,  0.49348417,\n",
            "         2.5020318 ]], dtype=float32)>\n",
            "Submodules: (<__main__.DenseLayer object at 0x7f1eed16c990>, <__main__.DenseLayer object at 0x7f1eed16c710>)\n",
            "<tf.Variable 'biases:0' shape=(3,) dtype=float32, numpy=array([0., 0., 0.], dtype=float32)> \n",
            "\n",
            "<tf.Variable 'weights:0' shape=(3, 3) dtype=float32, numpy=\n",
            "array([[-1.1952347 ,  1.1689026 ,  1.3443784 ],\n",
            "       [ 1.5287184 , -0.7772326 , -0.01542287],\n",
            "       [ 0.51341724, -1.0981852 ,  1.2464136 ]], dtype=float32)> \n",
            "\n",
            "<tf.Variable 'biases:0' shape=(6,) dtype=float32, numpy=array([0., 0., 0., 0., 0., 0.], dtype=float32)> \n",
            "\n",
            "<tf.Variable 'weights:0' shape=(3, 6) dtype=float32, numpy=\n",
            "array([[ 0.8721237 , -0.10960671,  0.96784043, -0.12975301,  1.4159669 ,\n",
            "        -0.62478286],\n",
            "       [-0.27331188, -0.7469185 ,  1.3878955 ,  0.7425421 ,  0.13886489,\n",
            "        -0.63346016],\n",
            "       [ 0.35855648, -0.23694906,  0.8342599 , -1.3569158 ,  0.49348417,\n",
            "         2.5020318 ]], dtype=float32)> \n",
            "\n"
          ]
        }
      ]
    }
  ]
}