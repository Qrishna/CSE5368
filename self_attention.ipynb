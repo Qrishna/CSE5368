{
  "cells": [
    {
      "cell_type": "markdown",
      "metadata": {
        "id": "view-in-github",
        "colab_type": "text"
      },
      "source": [
        "<a href=\"https://colab.research.google.com/github/farhadkamangar/CSE5368/blob/master/self_attention_2.ipynb\" target=\"_parent\"><img src=\"https://colab.research.google.com/assets/colab-badge.svg\" alt=\"Open In Colab\"/></a>"
      ]
    },
    {
      "cell_type": "markdown",
      "metadata": {
        "id": "BgCOFarGkRxy"
      },
      "source": [
        "# Self Attention"
      ]
    },
    {
      "cell_type": "markdown",
      "metadata": {
        "id": "LSjQo_CkkRx3"
      },
      "source": [
        "### Simple plots"
      ]
    },
    {
      "cell_type": "code",
      "source": [],
      "metadata": {
        "id": "KIiDYlKMyayX"
      },
      "execution_count": null,
      "outputs": []
    },
    {
      "cell_type": "code",
      "source": [
        "import matplotlib.pyplot as plt\n",
        "import numpy as np\n",
        "\n",
        "def plot_vector(vector_dict):\n",
        "    \"\"\"\n",
        "    Plot vectors in a 2D space using Matplotlib.\n",
        "\n",
        "    Parameters:\n",
        "    - vector_dict: Dictionary where keys are vector names and values are tuples containing the 2D vector as NumPy array\n",
        "                   and the color as a string.\n",
        "\n",
        "    Example:\n",
        "    - vector_dict: {'Vector A': (np.array([2, 3]), 'red'), 'Vector B': (np.array([-1, 4]), 'blue')}\n",
        "    \"\"\"\n",
        "    num_vectors = len(vector_dict)\n",
        "\n",
        "    # Set up the figure and axis\n",
        "    fig, ax = plt.subplots()\n",
        "    ax.set_aspect('equal', adjustable='box')\n",
        "\n",
        "    # Plot vectors\n",
        "    for name, (vector, color) in vector_dict.items():\n",
        "        ax.quiver(0, 0, vector[0], vector[1], angles='xy', scale_units='xy', scale=1, color=color,\n",
        "                  label=name)\n",
        "\n",
        "        # Add text for the vector name with the same color\n",
        "        ax.text(vector[0], vector[1], name, color=color, ha='right', va='bottom')\n",
        "\n",
        "    # Set axis limits based on the vectors\n",
        "    max_val = 1+np.max(np.abs([vector[0] for vector, _ in vector_dict.values()] + [vector[1] for vector, _ in vector_dict.values()]))\n",
        "    ax.set_xlim([-max_val, max_val])\n",
        "    ax.set_ylim([-max_val, max_val])\n",
        "\n",
        "    # Add grid lines\n",
        "    ax.grid(True)\n",
        "\n",
        "    # Add legend\n",
        "    # ax.legend()\n",
        "\n",
        "    # Show the plot\n",
        "    plt.show()\n",
        "\n",
        "# Example usage\n",
        "# vector_dict_to_plot = {'Vector A': (np.array([2, 3]), 'red'), 'Vector B': (np.array([-1, 4]), 'blue')}\n",
        "# plot_vector(vector_dict_to_plot)\n"
      ],
      "metadata": {
        "id": "p10-osZQnv1K"
      },
      "execution_count": 3,
      "outputs": []
    },
    {
      "cell_type": "code",
      "source": [
        "embedded_vectors= {'apple': (np.array([1, 2]), 'red'), 'phone': (np.array([2, -1]), 'blue'),'good': (np.array([-2, 3]), 'green'),\\\n",
        "                   'fruit': (np.array([4, 4]), 'red'),'is': (np.array([-2, 1]), 'black'),'orange': (np.array([4, 2]), 'red'),\\\n",
        "                   'computer': (np.array([2, -3]),'blue')}\n",
        "plot_vector(embedded_vectors)"
      ],
      "metadata": {
        "id": "PF7E_1Y8zBv_",
        "outputId": "c56bcc93-5677-4c61-a00c-8a8435e73187",
        "colab": {
          "base_uri": "https://localhost:8080/",
          "height": 430
        }
      },
      "execution_count": 14,
      "outputs": [
        {
          "output_type": "display_data",
          "data": {
            "text/plain": [
              "<Figure size 640x480 with 1 Axes>"
            ],
            "image/png": "[encoded data removed]"
          },
          "metadata": {}
        }
      ]
    }
  ],
  "metadata": {
    "anaconda-cloud": {},
    "hide_input": false,
    "kernelspec": {
      "display_name": "Python 3",
      "language": "python",
      "name": "python3"
    },
    "language_info": {
      "codemirror_mode": {
        "name": "ipython",
        "version": 3
      },
      "file_extension": ".py",
      "mimetype": "text/x-python",
      "name": "python",
      "nbconvert_exporter": "python",
      "pygments_lexer": "ipython3",
      "version": "3.7.3"
    },
    "varInspector": {
      "cols": {
        "lenName": 16,
        "lenType": 16,
        "lenVar": 40
      },
      "kernels_config": {
        "python": {
          "delete_cmd_postfix": "",
          "delete_cmd_prefix": "del ",
          "library": "var_list.py",
          "varRefreshCmd": "print(var_dic_list())"
        },
        "r": {
          "delete_cmd_postfix": ") ",
          "delete_cmd_prefix": "rm(",
          "library": "var_list.r",
          "varRefreshCmd": "cat(var_dic_list()) "
        }
      },
      "types_to_exclude": [
        "module",
        "function",
        "builtin_function_or_method",
        "instance",
        "_Feature"
      ],
      "window_display": false
    },
    "colab": {
      "provenance": [],
      "include_colab_link": true
    }
  },
  "nbformat": 4,
  "nbformat_minor": 0
}
