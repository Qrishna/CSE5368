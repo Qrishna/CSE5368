{
  "nbformat": 4,
  "nbformat_minor": 0,
  "metadata": {
    "colab": {
      "provenance": [],
      "authorship_tag": "ABX9TyN66zlbFEFT94mwFur6/DqC",
      "include_colab_link": true
    },
    "kernelspec": {
      "name": "python3",
      "display_name": "Python 3"
    },
    "language_info": {
      "name": "python"
    }
  },
  "cells": [
    {
      "cell_type": "markdown",
      "metadata": {
        "id": "view-in-github",
        "colab_type": "text"
      },
      "source": [
        "<a href=\"https://colab.research.google.com/github/farhadkamangar/CSE5368/blob/master/assignment_03_solution_v2.ipynb\" target=\"_parent\"><img src=\"https://colab.research.google.com/assets/colab-badge.svg\" alt=\"Open In Colab\"/></a>"
      ]
    },
    {
      "cell_type": "code",
      "execution_count": 1,
      "metadata": {
        "colab": {
          "base_uri": "https://localhost:8080/",
          "height": 1000
        },
        "id": "JSWGG_zqeM2W",
        "outputId": "631bbe81-0c26-445e-d862-be5e5396ecb9"
      },
      "outputs": [
        {
          "output_type": "display_data",
          "data": {
            "text/plain": [
              "<IPython.core.display.Markdown object>"
            ],
            "text/markdown": "# <center> Assignment_03 Solution"
          },
          "metadata": {}
        },
        {
          "output_type": "display_data",
          "data": {
            "text/plain": [
              "<IPython.core.display.Markdown object>"
            ],
            "text/markdown": "This is a programmatic solution for Assignment_03.<br> Note that it’s a dynamic solution—you can modify the function equation, starting point, and the number of steps. Simply run this program to compute the new values."
          },
          "metadata": {}
        },
        {
          "output_type": "display_data",
          "data": {
            "text/plain": [
              "<IPython.core.display.Markdown object>"
            ],
            "text/markdown": "Farhad Kamangar  2024<br><br>"
          },
          "metadata": {}
        },
        {
          "output_type": "display_data",
          "data": {
            "text/plain": [
              "<IPython.core.display.Markdown object>"
            ],
            "text/markdown": "# Assignment_03"
          },
          "metadata": {}
        },
        {
          "output_type": "display_data",
          "data": {
            "text/plain": [
              "<IPython.core.display.Markdown object>"
            ],
            "text/markdown": "Consider the following performance surface: <br>"
          },
          "metadata": {}
        },
        {
          "output_type": "display_data",
          "data": {
            "text/plain": [
              "<IPython.core.display.Math object>"
            ],
            "text/latex": "$\\displaystyle f(X) = {}2 x_{1}^{4} + 6 x_{1}^{3} x_{2}^{2} x_{3}^{3} - 8 x_{1} x_{3} - 4 x_{2}^{4} + 10 x_{3}$"
          },
          "metadata": {}
        },
        {
          "output_type": "display_data",
          "data": {
            "text/plain": [
              "<IPython.core.display.Markdown object>"
            ],
            "text/markdown": "Assuming initial point:   $X_0\\ =\\ \\begin{bmatrix}\\begin{array}{lll}-1\\\\2\\\\3\\\\\\end{array}\\end{bmatrix}$"
          },
          "metadata": {}
        },
        {
          "output_type": "display_data",
          "data": {
            "text/plain": [
              "<IPython.core.display.Markdown object>"
            ],
            "text/markdown": "and a given direction:   $P\\ =\\ \\begin{bmatrix}\\begin{array}{lll}4\\\\-5\\\\6\\\\\\end{array}\\end{bmatrix}$"
          },
          "metadata": {}
        },
        {
          "output_type": "display_data",
          "data": {
            "text/plain": [
              "<IPython.core.display.Markdown object>"
            ],
            "text/markdown": "## • Find the value of the function $f(X)$ , gradient $g$, and Hessian $H$ at $X_0$ <br>"
          },
          "metadata": {}
        },
        {
          "output_type": "display_data",
          "data": {
            "text/plain": [
              "<IPython.core.display.Markdown object>"
            ],
            "text/markdown": "Function Value: $f\\ =\\ {}-656.0$"
          },
          "metadata": {}
        },
        {
          "output_type": "display_data",
          "data": {
            "text/plain": [
              "<IPython.core.display.Markdown object>"
            ],
            "text/markdown": "Gradient: $g\\ =\\ \\begin{bmatrix}\\begin{array}{lll}8 x_{1}^{3} + 18 x_{1}^{2} x_{2}^{2} x_{3}^{3} - 8 x_{3}\\\\12 x_{1}^{3} x_{2} x_{3}^{3} - 16 x_{2}^{3}\\\\18 x_{1}^{3} x_{2}^{2} x_{3}^{2} - 8 x_{1} + 10\\\\\\end{array}\\end{bmatrix}$"
          },
          "metadata": {}
        },
        {
          "output_type": "display_data",
          "data": {
            "text/plain": [
              "<IPython.core.display.Markdown object>"
            ],
            "text/markdown": "Gradient at $x_0$ : $g\\ =\\ \\begin{bmatrix}\\begin{array}{lll}1912.0\\\\-776.0\\\\-630.0\\\\\\end{array}\\end{bmatrix}$"
          },
          "metadata": {}
        },
        {
          "output_type": "display_data",
          "data": {
            "text/plain": [
              "<IPython.core.display.Markdown object>"
            ],
            "text/markdown": "Hessian : $H\\ =\\ \\begin{bmatrix}\\begin{array}{lllllllll}24 x_{1}^{2} + 36 x_{1} x_{2}^{2} x_{3}^{3}&36 x_{1}^{2} x_{2} x_{3}^{3}&54 x_{1}^{2} x_{2}^{2} x_{3}^{2} - 8\\\\36 x_{1}^{2} x_{2} x_{3}^{3}&12 x_{1}^{3} x_{3}^{3} - 48 x_{2}^{2}&36 x_{1}^{3} x_{2} x_{3}^{2}\\\\54 x_{1}^{2} x_{2}^{2} x_{3}^{2} - 8&36 x_{1}^{3} x_{2} x_{3}^{2}&36 x_{1}^{3} x_{2}^{2} x_{3}\\\\\\end{array}\\end{bmatrix}$"
          },
          "metadata": {}
        },
        {
          "output_type": "display_data",
          "data": {
            "text/plain": [
              "<IPython.core.display.Markdown object>"
            ],
            "text/markdown": "Hessian at $X_0$ : $H\\ =\\ \\begin{bmatrix}\\begin{array}{lll}-3864.0&1944.0&1936.0\\\\1944.0&-516.0&-648.0\\\\1936.0&-648.0&-432.0\\\\\\end{array}\\end{bmatrix}$"
          },
          "metadata": {}
        },
        {
          "output_type": "display_data",
          "data": {
            "text/plain": [
              "<IPython.core.display.Markdown object>"
            ],
            "text/markdown": "## • \tFind the Taylor series of this function up to the second derivatives around $X_0 $ <br>"
          },
          "metadata": {}
        },
        {
          "output_type": "display_data",
          "data": {
            "text/plain": [
              "<IPython.core.display.Markdown object>"
            ],
            "text/markdown": "## • \tWrite the Taylor series expansion of the previous step as quadratic function in matrix form.<br>"
          },
          "metadata": {}
        },
        {
          "output_type": "display_data",
          "data": {
            "text/plain": [
              "<IPython.core.display.Markdown object>"
            ],
            "text/markdown": "Second order Taylor series around $X_0$: $f(X_0)\\ ~=\\ {}1912.0 x_{1} - 776.0 x_{2} - 630.0 x_{3} + \\left(x_{1} + 1\\right) \\left(- 3864.0 x_{1} + 1944.0 x_{2} + 1936.0 x_{3} - 13560.0\\right) + \\left(x_{2} - 2\\right) \\left(1944.0 x_{1} - 516.0 x_{2} - 648.0 x_{3} + 4920.0\\right) + \\left(x_{3} - 3\\right) \\left(1936.0 x_{1} - 648.0 x_{2} - 432.0 x_{3} + 4528.0\\right) + 4698.0$"
          },
          "metadata": {}
        },
        {
          "output_type": "display_data",
          "data": {
            "text/plain": [
              "<IPython.core.display.Markdown object>"
            ],
            "text/markdown": "$f\\approx =-656.000000000000+\\begin{bmatrix}\\begin{array}{l}1912.0&-776.0&-630.0\\\\\\end{array}\\end{bmatrix}\\begin{bmatrix}\\begin{array}{lll}x_{1} + 1\\\\x_{2} - 2\\\\x_{3} - 3\\\\\\end{array}\\end{bmatrix}+\\begin{bmatrix}\\begin{array}{lll}x_{1} + 1&x_{2} - 2&x_{3} - 3\\\\\\end{array}\\end{bmatrix}\\begin{bmatrix}\\begin{array}{lll}-3864.0&1944.0&1936.0\\\\1944.0&-516.0&-648.0\\\\1936.0&-648.0&-432.0\\\\\\end{array}\\end{bmatrix}\\begin{bmatrix}\\begin{array}{lll}x_{1} + 1\\\\x_{2} - 2\\\\x_{3} - 3\\\\\\end{array}\\end{bmatrix}$"
          },
          "metadata": {}
        },
        {
          "output_type": "display_data",
          "data": {
            "text/plain": [
              "<IPython.core.display.Markdown object>"
            ],
            "text/markdown": "## • \tPerform two steps of gradient descent using minimization along a line (calculate α ) and show the $X_1$ and  $X_2$ positions and the value of the of the function after each step. <br>"
          },
          "metadata": {}
        },
        {
          "output_type": "display_data",
          "data": {
            "text/plain": [
              "<IPython.core.display.Markdown object>"
            ],
            "text/markdown": "$\\large{\\alpha = -\\frac{g^{T}P}{P^{T}HP}}$ "
          },
          "metadata": {}
        },
        {
          "output_type": "display_data",
          "data": {
            "text/plain": [
              "<IPython.core.display.Markdown object>"
            ],
            "text/markdown": "Direction of P is opposite of gradient. This means: <br/><br/>   $\\large{\\alpha = -\\frac{g^{T}(-g)}{(-g)^{T}H(-g)}}$ "
          },
          "metadata": {}
        },
        {
          "output_type": "display_data",
          "data": {
            "text/plain": [
              "<IPython.core.display.Markdown object>"
            ],
            "text/markdown": "Function value at $X_0$ : $f_0\\ =\\ {}-656.0$"
          },
          "metadata": {}
        },
        {
          "output_type": "display_data",
          "data": {
            "text/plain": [
              "<IPython.core.display.Markdown object>"
            ],
            "text/markdown": "Gradient at $X_0$ : $g_0\\ =\\ \\begin{bmatrix}\\begin{array}{lll}1912.0\\\\-776.0\\\\-630.0\\\\\\end{array}\\end{bmatrix}$"
          },
          "metadata": {}
        },
        {
          "output_type": "display_data",
          "data": {
            "text/plain": [
              "<IPython.core.display.Markdown object>"
            ],
            "text/markdown": "Hessian at $X_0$ : $H_0\\ =\\ \\begin{bmatrix}\\begin{array}{lll}-3864.0&1944.0&1936.0\\\\1944.0&-516.0&-648.0\\\\1936.0&-648.0&-432.0\\\\\\end{array}\\end{bmatrix}$"
          },
          "metadata": {}
        },
        {
          "output_type": "display_data",
          "data": {
            "text/plain": [
              "<IPython.core.display.Markdown object>"
            ],
            "text/markdown": "$\\ \\alpha_0\\ =\\begin{bmatrix}\\begin{array}{l}-0.00018130273534382405\\\\\\end{array}\\end{bmatrix}$"
          },
          "metadata": {}
        },
        {
          "output_type": "display_data",
          "data": {
            "text/plain": [
              "<IPython.core.display.Markdown object>"
            ],
            "text/markdown": " $X_1 = X_0+\\alpha_0*(-g_0)$"
          },
          "metadata": {}
        },
        {
          "output_type": "display_data",
          "data": {
            "text/plain": [
              "<IPython.core.display.Markdown object>"
            ],
            "text/markdown": "$\\ X_1\\ =\\begin{bmatrix}\\begin{array}{lll}-0.6533491700226084\\\\1.8593090773731926\\\\2.8857792767333907\\\\\\end{array}\\end{bmatrix}\\ $"
          },
          "metadata": {}
        },
        {
          "output_type": "display_data",
          "data": {
            "text/plain": [
              "<IPython.core.display.Markdown object>"
            ],
            "text/markdown": "Function value at $X_1$ : $f_1\\ =\\ {}-142.519442743978$"
          },
          "metadata": {}
        },
        {
          "output_type": "display_data",
          "data": {
            "text/plain": [
              "<IPython.core.display.Markdown object>"
            ],
            "text/markdown": "Gradient at $X_1$ : $g_1\\ =\\ \\begin{bmatrix}\\begin{array}{lll}613.0279852628831\\\\-252.38328633598942\\\\-129.29652880287912\\\\\\end{array}\\end{bmatrix}$"
          },
          "metadata": {}
        },
        {
          "output_type": "display_data",
          "data": {
            "text/plain": [
              "<IPython.core.display.Markdown object>"
            ],
            "text/markdown": "Hessian at $X_1$ : $H_1\\ =\\ \\begin{bmatrix}\\begin{array}{lll}-1943.8263050685798&686.6479200407351&655.6114139001305\\\\686.6479200407351&-246.36532936428878&-155.45916913097702\\\\655.6114139001305&-155.45916913097702&-100.16242290481463\\\\\\end{array}\\end{bmatrix}$"
          },
          "metadata": {}
        },
        {
          "output_type": "display_data",
          "data": {
            "text/plain": [
              "<IPython.core.display.Markdown object>"
            ],
            "text/markdown": "$\\ \\alpha_1\\ =\\begin{bmatrix}\\begin{array}{l}-0.0004246205593884144\\\\\\end{array}\\end{bmatrix}$"
          },
          "metadata": {}
        },
        {
          "output_type": "display_data",
          "data": {
            "text/plain": [
              "<IPython.core.display.Markdown object>"
            ],
            "text/markdown": " $X_2 = X_1+\\alpha_1*(-g_1)$"
          },
          "metadata": {}
        },
        {
          "output_type": "display_data",
          "data": {
            "text/plain": [
              "<IPython.core.display.Markdown object>"
            ],
            "text/markdown": "$\\ X_2\\ =\\begin{bmatrix}\\begin{array}{lll}-0.3930448839995303\\\\1.7521419451489184\\\\2.830877312346132\\\\\\end{array}\\end{bmatrix}\\ $"
          },
          "metadata": {}
        },
        {
          "output_type": "display_data",
          "data": {
            "text/plain": [
              "<IPython.core.display.Markdown object>"
            ],
            "text/markdown": "Function value at $X_2$ : $f_2\\ =\\ {}-25.8152790891458$"
          },
          "metadata": {}
        },
        {
          "output_type": "display_data",
          "data": {
            "text/plain": [
              "<IPython.core.display.Markdown object>"
            ],
            "text/markdown": "Gradient at $X_2$ : $g_2\\ =\\ \\begin{bmatrix}\\begin{array}{lll}170.53551704741255\\\\-115.02802306741636\\\\-13.744948382874346\\\\\\end{array}\\end{bmatrix}$"
          },
          "metadata": {}
        },
        {
          "output_type": "display_data",
          "data": {
            "text/plain": [
              "<IPython.core.display.Markdown object>"
            ],
            "text/markdown": "Hessian at $X_2$ : $H_2\\ =\\ \\begin{bmatrix}\\begin{array}{lll}-981.7690873261434&221.06461195374868&197.23844896225177\\\\221.06461195374868&-163.88999009057716&-30.69306973595134\\\\197.23844896225177&-30.69306973595134&-18.997154936810507\\\\\\end{array}\\end{bmatrix}$"
          },
          "metadata": {}
        },
        {
          "output_type": "display_data",
          "data": {
            "text/plain": [
              "<IPython.core.display.Markdown object>"
            ],
            "text/markdown": "$\\ \\alpha_2\\ =\\begin{bmatrix}\\begin{array}{l}-0.001051555053432278\\\\\\end{array}\\end{bmatrix}$"
          },
          "metadata": {}
        },
        {
          "output_type": "display_data",
          "data": {
            "text/plain": [
              "<IPython.core.display.Markdown object>"
            ],
            "text/markdown": " $X_3 = X_2+\\alpha_2*(-g_2)$"
          },
          "metadata": {}
        },
        {
          "output_type": "display_data",
          "data": {
            "text/plain": [
              "<IPython.core.display.Markdown object>"
            ],
            "text/markdown": "$\\ X_3\\ =\\begin{bmatrix}\\begin{array}{lll}-0.21371739925863725\\\\1.631183646206052\\\\2.8164237424149547\\\\\\end{array}\\end{bmatrix}\\ $"
          },
          "metadata": {}
        },
        {
          "output_type": "display_data",
          "data": {
            "text/plain": [
              "<IPython.core.display.Markdown object>"
            ],
            "text/markdown": "## • Perform two steps of gradient descent using $\\alpha=0.1$ and show the $X_1$ and  $X_2$ positions and the value of the of the function after each step.. <br>"
          },
          "metadata": {}
        },
        {
          "output_type": "display_data",
          "data": {
            "text/plain": [
              "<IPython.core.display.Markdown object>"
            ],
            "text/markdown": "Function value at $X_0$ : $f_0\\ =\\ {}-656.0$"
          },
          "metadata": {}
        },
        {
          "output_type": "display_data",
          "data": {
            "text/plain": [
              "<IPython.core.display.Markdown object>"
            ],
            "text/markdown": "Gradient at $X_0$ : $g_0\\ =\\ \\begin{bmatrix}\\begin{array}{lll}1912.0\\\\-776.0\\\\-630.0\\\\\\end{array}\\end{bmatrix}$"
          },
          "metadata": {}
        },
        {
          "output_type": "display_data",
          "data": {
            "text/plain": [
              "<IPython.core.display.Markdown object>"
            ],
            "text/markdown": "Hessian at $X_0$ : $H_0\\ =\\ \\begin{bmatrix}\\begin{array}{lll}-3864.0&1944.0&1936.0\\\\1944.0&-516.0&-648.0\\\\1936.0&-648.0&-432.0\\\\\\end{array}\\end{bmatrix}$"
          },
          "metadata": {}
        },
        {
          "output_type": "display_data",
          "data": {
            "text/plain": [
              "<IPython.core.display.Markdown object>"
            ],
            "text/markdown": "$\\ \\alpha_0\\ ={}0.1$"
          },
          "metadata": {}
        },
        {
          "output_type": "display_data",
          "data": {
            "text/plain": [
              "<IPython.core.display.Markdown object>"
            ],
            "text/markdown": " $X_1 = X_0+\\alpha_0*(-g_0)$"
          },
          "metadata": {}
        },
        {
          "output_type": "display_data",
          "data": {
            "text/plain": [
              "<IPython.core.display.Markdown object>"
            ],
            "text/markdown": "$\\ X_1\\ =\\begin{bmatrix}\\begin{array}{lll}-192.20000000000002\\\\79.60000000000001\\\\66.0\\\\\\end{array}\\end{bmatrix}\\ $"
          },
          "metadata": {}
        },
        {
          "output_type": "display_data",
          "data": {
            "text/plain": [
              "<IPython.core.display.Markdown object>"
            ],
            "text/markdown": "Function value at $X_1$ : $f_1\\ =\\ {}-7.76013592080806 \\cdot 10^{16}$"
          },
          "metadata": {}
        },
        {
          "output_type": "display_data",
          "data": {
            "text/plain": [
              "<IPython.core.display.Markdown object>"
            ],
            "text/markdown": "Gradient at $X_1$ : $g_1\\ =\\ \\begin{bmatrix}\\begin{array}{lll}1211259492265517.2\\\\-1949782967286979.2\\\\-3527334626218743.0\\\\\\end{array}\\end{bmatrix}$"
          },
          "metadata": {}
        },
        {
          "output_type": "display_data",
          "data": {
            "text/plain": [
              "<IPython.core.display.Markdown object>"
            ],
            "text/markdown": "Hessian at $X_1$ : $H_1\\ =\\ \\begin{bmatrix}\\begin{array}{lll}-12604156751986.756&30433657011715.594&55057252230277.484\\\\30433657011715.594&-24494761098322.184&-88626498146238.45\\\\55057252230277.484&-88626498146238.45&-106888928067281.53\\\\\\end{array}\\end{bmatrix}$"
          },
          "metadata": {}
        },
        {
          "output_type": "display_data",
          "data": {
            "text/plain": [
              "<IPython.core.display.Markdown object>"
            ],
            "text/markdown": "$\\ \\alpha_1\\ ={}0.1$"
          },
          "metadata": {}
        },
        {
          "output_type": "display_data",
          "data": {
            "text/plain": [
              "<IPython.core.display.Markdown object>"
            ],
            "text/markdown": " $X_2 = X_1+\\alpha_1*(-g_1)$"
          },
          "metadata": {}
        },
        {
          "output_type": "display_data",
          "data": {
            "text/plain": [
              "<IPython.core.display.Markdown object>"
            ],
            "text/markdown": "$\\ X_2\\ =\\begin{bmatrix}\\begin{array}{lll}-121125949226743.94\\\\194978296728777.53\\\\352733462621940.3\\\\\\end{array}\\end{bmatrix}\\ $"
          },
          "metadata": {}
        },
        {
          "output_type": "display_data",
          "data": {
            "text/plain": [
              "<IPython.core.display.Markdown object>"
            ],
            "text/markdown": "Function value at $X_2$ : $f_2\\ =\\ {}-1.77899759221393 \\cdot 10^{115}$"
          },
          "metadata": {}
        },
        {
          "output_type": "display_data",
          "data": {
            "text/plain": [
              "<IPython.core.display.Markdown object>"
            ],
            "text/markdown": "Gradient at $X_2$ : $g_2\\ =\\ \\begin{bmatrix}\\begin{array}{lll}4.4061514569855835e+101\\\\-1.8248160149727715e+101\\\\-1.5130384106375482e+101\\\\\\end{array}\\end{bmatrix}$"
          },
          "metadata": {}
        },
        {
          "output_type": "display_data",
          "data": {
            "text/plain": [
              "<IPython.core.display.Markdown object>"
            ],
            "text/markdown": "Hessian at $X_2$ : $H_2\\ =\\ \\begin{bmatrix}\\begin{array}{lll}-7.275322067837682e+87&4.519632729292649e+87&3.7474341880413795e+87\\\\4.519632729292649e+87&-9.359072499803209e+86&-1.5520070038792515e+87\\\\3.7474341880413795e+87&-1.5520070038792515e+87&-8.578933222784268e+86\\\\\\end{array}\\end{bmatrix}$"
          },
          "metadata": {}
        },
        {
          "output_type": "display_data",
          "data": {
            "text/plain": [
              "<IPython.core.display.Markdown object>"
            ],
            "text/markdown": "$\\ \\alpha_2\\ ={}0.1$"
          },
          "metadata": {}
        },
        {
          "output_type": "display_data",
          "data": {
            "text/plain": [
              "<IPython.core.display.Markdown object>"
            ],
            "text/markdown": " $X_3 = X_2+\\alpha_2*(-g_2)$"
          },
          "metadata": {}
        },
        {
          "output_type": "display_data",
          "data": {
            "text/plain": [
              "<IPython.core.display.Markdown object>"
            ],
            "text/markdown": "$\\ X_3\\ =\\begin{bmatrix}\\begin{array}{lll}-4.406151456985584e+100\\\\1.8248160149727715e+100\\\\1.5130384106375483e+100\\\\\\end{array}\\end{bmatrix}\\ $"
          },
          "metadata": {}
        },
        {
          "output_type": "display_data",
          "data": {
            "text/plain": [
              "<IPython.core.display.Markdown object>"
            ],
            "text/markdown": "## • Perform one step of minimization in the direction of P and show the value $X_1$ and the value of the function after the step.. <br>"
          },
          "metadata": {}
        },
        {
          "output_type": "display_data",
          "data": {
            "text/plain": [
              "<IPython.core.display.Markdown object>"
            ],
            "text/markdown": "$\\large{\\alpha = -\\frac{g^{T}P}{P^{T}HP}}$ "
          },
          "metadata": {}
        },
        {
          "output_type": "display_data",
          "data": {
            "text/plain": [
              "<IPython.core.display.Markdown object>"
            ],
            "text/markdown": "Function value at $X_0$ : $f_0\\ =\\ {}-656.0$"
          },
          "metadata": {}
        },
        {
          "output_type": "display_data",
          "data": {
            "text/plain": [
              "<IPython.core.display.Markdown object>"
            ],
            "text/markdown": "Gradient at $X_0$ : $g_0\\ =\\ \\begin{bmatrix}\\begin{array}{lll}1912.0\\\\-776.0\\\\-630.0\\\\\\end{array}\\end{bmatrix}$"
          },
          "metadata": {}
        },
        {
          "output_type": "display_data",
          "data": {
            "text/plain": [
              "<IPython.core.display.Markdown object>"
            ],
            "text/markdown": "Hessian at $X_0$ : $H_0\\ =\\ \\begin{bmatrix}\\begin{array}{lll}-3864.0&1944.0&1936.0\\\\1944.0&-516.0&-648.0\\\\1936.0&-648.0&-432.0\\\\\\end{array}\\end{bmatrix}$"
          },
          "metadata": {}
        },
        {
          "output_type": "display_data",
          "data": {
            "text/plain": [
              "<IPython.core.display.Markdown object>"
            ],
            "text/markdown": "$\\ \\alpha_0\\ =\\begin{bmatrix}\\begin{array}{l}0.21386772662029369\\\\\\end{array}\\end{bmatrix}$"
          },
          "metadata": {}
        },
        {
          "output_type": "display_data",
          "data": {
            "text/plain": [
              "<IPython.core.display.Markdown object>"
            ],
            "text/markdown": " $X_1 = X_0+\\alpha_0*(-g_0)$"
          },
          "metadata": {}
        },
        {
          "output_type": "display_data",
          "data": {
            "text/plain": [
              "<IPython.core.display.Markdown object>"
            ],
            "text/markdown": "$\\ X_1\\ =\\begin{bmatrix}\\begin{array}{lll}-0.14452909351882526\\\\0.9306613668985315\\\\4.283206359721762\\\\\\end{array}\\end{bmatrix}\\ $"
          },
          "metadata": {}
        },
        {
          "output_type": "display_data",
          "data": {
            "text/plain": [
              "<IPython.core.display.Markdown object>"
            ],
            "text/markdown": "Function value at $X_1$ : $f_1\\ =\\ {}43.5517489085486$"
          },
          "metadata": {}
        },
        {
          "output_type": "display_data",
          "data": {
            "text/plain": [
              "<IPython.core.display.Markdown object>"
            ],
            "text/markdown": "Gradient at $X_1$ : $g_1\\ =\\ \\begin{bmatrix}\\begin{array}{lll}-8.699617710729694\\\\-15.546577527832916\\\\10.292737978941856\\\\\\end{array}\\end{bmatrix}$"
          },
          "metadata": {}
        },
        {
          "output_type": "display_data",
          "data": {
            "text/plain": [
              "<IPython.core.display.Markdown object>"
            ],
            "text/markdown": "Hessian at $X_1$ : $H_1\\ =\\ \\begin{bmatrix}\\begin{array}{lll}-353.61679049054254&54.993548091029325&9.923618314874574\\\\54.993548091029325&-44.421048962863516&-1.8556583520521077\\\\9.923618314874574&-1.8556583520521077&-0.40320017140842984\\\\\\end{array}\\end{bmatrix}$"
          },
          "metadata": {}
        },
        {
          "output_type": "display_data",
          "data": {
            "text/plain": [
              "<IPython.core.display.Markdown object>"
            ],
            "text/markdown": "$\\ \\alpha_1\\ =\\begin{bmatrix}\\begin{array}{l}0.012470650241765927\\\\\\end{array}\\end{bmatrix}$"
          },
          "metadata": {}
        },
        {
          "output_type": "display_data",
          "data": {
            "text/plain": [
              "<IPython.core.display.Markdown object>"
            ],
            "text/markdown": " $X_2 = X_1+\\alpha_1*(-g_1)$"
          },
          "metadata": {}
        },
        {
          "output_type": "display_data",
          "data": {
            "text/plain": [
              "<IPython.core.display.Markdown object>"
            ],
            "text/markdown": "$\\ X_2\\ =\\begin{bmatrix}\\begin{array}{lll}-0.09464649255176155\\\\0.8683081156897019\\\\4.358030261172357\\\\\\end{array}\\end{bmatrix}\\ $"
          },
          "metadata": {}
        },
        {
          "output_type": "display_data",
          "data": {
            "text/plain": [
              "<IPython.core.display.Markdown object>"
            ],
            "text/markdown": "Function value at $X_2$ : $f_2\\ =\\ {}44.2889689324575$"
          },
          "metadata": {}
        },
        {
          "output_type": "display_data",
          "data": {
            "text/plain": [
              "<IPython.core.display.Markdown object>"
            ],
            "text/markdown": "Gradient at $X_2$ : $g_2\\ =\\ \\begin{bmatrix}\\begin{array}{lll}-24.80866137777874\\\\-11.205904695536415\\\\10.538640322223973\\\\\\end{array}\\end{bmatrix}$"
          },
          "metadata": {}
        },
        {
          "output_type": "display_data",
          "data": {
            "text/plain": [
              "<IPython.core.display.Markdown object>"
            ],
            "text/markdown": "Hessian at $X_2$ : $H_2\\ =\\ \\begin{bmatrix}\\begin{array}{lll}-212.41546481340595&23.17694202009561&-1.0732260975036496\\\\23.17694202009561&-37.032134859428766&-0.5033503988766435\\\\-1.0732260975036496&-0.5033503988766435&-0.10028916969077295\\\\\\end{array}\\end{bmatrix}$"
          },
          "metadata": {}
        },
        {
          "output_type": "display_data",
          "data": {
            "text/plain": [
              "<IPython.core.display.Markdown object>"
            ],
            "text/markdown": "$\\ \\alpha_2\\ =\\begin{bmatrix}\\begin{array}{l}0.0037954893053486743\\\\\\end{array}\\end{bmatrix}$"
          },
          "metadata": {}
        },
        {
          "output_type": "display_data",
          "data": {
            "text/plain": [
              "<IPython.core.display.Markdown object>"
            ],
            "text/markdown": " $X_3 = X_2+\\alpha_2*(-g_2)$"
          },
          "metadata": {}
        },
        {
          "output_type": "display_data",
          "data": {
            "text/plain": [
              "<IPython.core.display.Markdown object>"
            ],
            "text/markdown": "$\\ X_3\\ =\\begin{bmatrix}\\begin{array}{lll}-0.07946453533036685\\\\0.8493306691629585\\\\4.3808031970044485\\\\\\end{array}\\end{bmatrix}\\ $"
          },
          "metadata": {}
        },
        {
          "output_type": "display_data",
          "data": {
            "text/plain": [
              "<IPython.core.display.Markdown object>"
            ],
            "text/markdown": "Function value at $X_3$ : $f_3\\ =\\ {}44.329009875695$"
          },
          "metadata": {}
        },
        {
          "output_type": "display_data",
          "data": {
            "text/plain": [
              "<IPython.core.display.Markdown object>"
            ],
            "text/markdown": "Gradient at $X_3$ : $g_3\\ =\\ \\begin{bmatrix}\\begin{array}{lll}-28.157030907410814\\\\-10.232777041206523\\\\10.510674933819061\\\\\\end{array}\\end{bmatrix}$"
          },
          "metadata": {}
        },
        {
          "output_type": "display_data",
          "data": {
            "text/plain": [
              "<IPython.core.display.Markdown object>"
            ],
            "text/markdown": "Hessian at $X_3$ : $H_3\\ =\\ \\begin{bmatrix}\\begin{array}{lll}-173.34493907346953&16.232568117018495&-3.2793526708225844\\\\16.232568117018495&-35.13165117570516&-0.29444679996568507\\\\-3.2793526708225844&-0.29444679996568507&-0.057086037971016655\\\\\\end{array}\\end{bmatrix}$"
          },
          "metadata": {}
        },
        {
          "output_type": "display_data",
          "data": {
            "text/plain": [
              "<IPython.core.display.Markdown object>"
            ],
            "text/markdown": "$\\ \\alpha_3\\ =\\begin{bmatrix}\\begin{array}{l}0.0003600818135927304\\\\\\end{array}\\end{bmatrix}$"
          },
          "metadata": {}
        },
        {
          "output_type": "display_data",
          "data": {
            "text/plain": [
              "<IPython.core.display.Markdown object>"
            ],
            "text/markdown": " $X_4 = X_3+\\alpha_3*(-g_3)$"
          },
          "metadata": {}
        },
        {
          "output_type": "display_data",
          "data": {
            "text/plain": [
              "<IPython.core.display.Markdown object>"
            ],
            "text/markdown": "$\\ X_4\\ =\\begin{bmatrix}\\begin{array}{lll}-0.07802420807599593\\\\0.8475302600949949\\\\4.382963687886005\\\\\\end{array}\\end{bmatrix}\\ $"
          },
          "metadata": {}
        }
      ],
      "source": [
        "import sympy as sym\n",
        "from IPython.display import display, Math , Latex, Markdown\n",
        "import numpy as np\n",
        "\n",
        "def convert_to_latex(x,before=\"\",after=\"\",start_and_end_symbol=\"\"):\n",
        "    # x can be one expression, a list of expressions, or a two dimensional list of expressions\n",
        "    b=before.replace(r\" \", r\"\\ \")\n",
        "    a=after.replace(r\" \", r\"\\ \")\n",
        "    latex = ''\n",
        "    justify_symbol=\"\"\n",
        "    begin_latex_matrix=\"\"\n",
        "    end_latex_matrix=\"\"\n",
        "    match np.ndim(x):\n",
        "        case 0:\n",
        "            if isinstance(x,sym.Expr):\n",
        "                latex= sym.latex(x)\n",
        "            else:\n",
        "                latex = f'{x}'\n",
        "        case 1:\n",
        "            begin_latex_matrix=r'\\begin{bmatrix}\\begin{array}'\n",
        "            end_latex_matrix=r'\\end{array}\\end{bmatrix}'\n",
        "            for element in x:\n",
        "                try:\n",
        "                    if isinstance(element, sym.Expr):\n",
        "                        latex += sym.latex(element)+\"&\"\n",
        "                    else:\n",
        "                        latex = f'{element}&'\n",
        "                except TypeError:\n",
        "                    latex += f'err &'\n",
        "                # matrix = matrix[:-1] + r'\\\\'\n",
        "        case 2:\n",
        "            justify_symbol=len(x)*\"l\"\n",
        "            begin_latex_matrix = r'\\begin{bmatrix}\\begin{array}'\n",
        "            end_latex_matrix = r'\\end{array}\\end{bmatrix}'\n",
        "            if isinstance(x, sym.Basic):\n",
        "                for m in range(x.rows):\n",
        "                    for n in range(x.cols):\n",
        "                        try:\n",
        "                            element =x[m,n]\n",
        "                            if isinstance(element, sym.Expr):\n",
        "                                latex += sym.latex(element) + \"&\"\n",
        "                            else:\n",
        "                                latex += f'{element}&'\n",
        "                        except TypeError:\n",
        "                            latex += f'error &'\n",
        "                    latex = latex[:-1] + r'\\\\'\n",
        "\n",
        "            else:\n",
        "                for row in x:\n",
        "                    try:\n",
        "                        for element in row:\n",
        "                            if isinstance(element, sym.Expr):\n",
        "                                latex += sym.latex(element)+\"&\"\n",
        "                            else:\n",
        "                                latex += f'{element}&'\n",
        "                    except TypeError:\n",
        "                        latex += f'error &'\n",
        "                    latex = latex[:-1] + r'\\\\'\n",
        "        case _:\n",
        "            print(\"none\")\n",
        "    justify_symbol=r\"{\"+justify_symbol+r\"}\"\n",
        "    latex=start_and_end_symbol+ b+begin_latex_matrix+justify_symbol+latex+end_latex_matrix+a+start_and_end_symbol\n",
        "\n",
        "    return latex\n",
        "class TaylorSeriesAndOptimization:\n",
        "    # this class calculates taylor series, gradient and Hessian  of f\n",
        "    # f is a string defining the function\n",
        "\n",
        "\n",
        "    def __init__(self,f):\n",
        "        self.f_symbolic = sym.sympify(f)\n",
        "        # Convert the set to a sorted list\n",
        "        self.list_of_individual_symbolic_variables = sorted(self.f_symbolic.free_symbols, key=str)\n",
        "        self.symbolic_variables=sym.Matrix(self.list_of_individual_symbolic_variables)\n",
        "        self.list_of_individual_g_symbolic = []\n",
        "        self.list_of_individual_h_symbolic = []\n",
        "        for k, symbol in enumerate(self.list_of_individual_symbolic_variables):\n",
        "            temp_g = sym.diff(self.f_symbolic, symbol)\n",
        "            self.list_of_individual_g_symbolic.append([temp_g])\n",
        "            h_row_symbol = []\n",
        "            for symbol2 in self.list_of_individual_symbolic_variables:\n",
        "                temp_h = sym.diff(temp_g, symbol2)\n",
        "                h_row_symbol.append(temp_h)\n",
        "            self.list_of_individual_h_symbolic.append(h_row_symbol)\n",
        "        self.g_symbolic=sym.sympify(sym.Matrix(self.list_of_individual_g_symbolic))\n",
        "        self.h_symbolic=sym.sympify(sym.Matrix(self.list_of_individual_h_symbolic))\n",
        "    def calculate_numerical_values(self, current_x):\n",
        "        # x: an N by 1 numpy array representing the initial point\n",
        "        self.current_x_values=current_x\n",
        "        self.symbol_value_dict = {}\n",
        "        for k, symbol in enumerate(self.list_of_individual_symbolic_variables):\n",
        "            self.symbol_value_dict[symbol] = self.current_x_values[k][0]\n",
        "\n",
        "        self.symbolic_x_values=sym.Matrix(self.current_x_values)\n",
        "        self.f_value = sym.sympify(self.f_symbolic.evalf(subs=self.symbol_value_dict))\n",
        "        self.g_value_sym= sym.sympify(self.g_symbolic.evalf(subs=self.symbol_value_dict))\n",
        "        self.g_value= np.array(self.g_value_sym.tolist()).astype(np.float64)\n",
        "        self.h_value_sym= sym.sympify(self.h_symbolic.evalf(subs=self.symbol_value_dict))\n",
        "        self.h_value = np.array(self.h_value_sym.tolist()).astype(np.float64)\n",
        "        self.symbolic_x_minus_x_values_sym=sym.sympify(self.symbolic_variables-self.symbolic_x_values)\n",
        "        temp=sym.sympify(self.h_value_sym * (self.symbolic_x_minus_x_values_sym))\n",
        "        self.taylor_second_order_sym = self.f_value + self.g_value_sym.transpose().dot(\n",
        "            self.symbolic_x_minus_x_values_sym) + sym.sympify(self.symbolic_x_minus_x_values_sym.transpose().dot(temp))\n",
        "    def calculate_alpha_minimize_along_a_line(self,direction):\n",
        "        # direction: an N by 1 numpy array\n",
        "        self.alpha=-((self.g_value.transpose().dot(direction))/(direction.transpose().dot(self.h_value.dot(direction))))\n",
        "        a=1\n",
        "    def calculate_next_step(self,alpha,direction):\n",
        "        # direction: an N by 1 numpy array\n",
        "        self.next_x_values= self.current_x_values + alpha * direction\n",
        "    def display_f_gradient_and_hessian(self):\n",
        "        display(Markdown(\"Function Value: \" + convert_to_latex(self.f_value, r\"f = \", \"\", \"$\")))\n",
        "        display(Markdown(\"Gradient: \" + convert_to_latex(self.g_symbolic, r\"g = \", \"\", \"$\")))\n",
        "        display(Markdown(\"Gradient at $x_0$ : \" + convert_to_latex(self.g_value, r\"g = \", \"\", \"$\")))\n",
        "        display(Markdown(\"Hessian : \" + convert_to_latex(self.h_symbolic, r\"H = \", \"\", \"$\")))\n",
        "        display(Markdown(\"Hessian at $X_0$ : \" + convert_to_latex(self.h_value, r\"H = \", \"\", \"$\")))\n",
        "    def display_second_order_taylor_series(self):\n",
        "        display(Markdown(\"Second order Taylor series around $X_0$: \" + convert_to_latex(self.taylor_second_order_sym,\n",
        "                                                                                        r\"f(X_0) ~= \", \"\", \"$\")))\n",
        "        display(Markdown(\"$f\\\\approx =\" + f\"{self.f_value}+\" + convert_to_latex(self.g_value.transpose()) + \\\n",
        "                         convert_to_latex(self.symbolic_x_minus_x_values_sym) + \"+\" + \\\n",
        "                         convert_to_latex(self.symbolic_x_minus_x_values_sym.transpose()) + \\\n",
        "                         convert_to_latex(self.h_value) + \\\n",
        "                         convert_to_latex(self.symbolic_x_minus_x_values_sym) + \"$\"))\n",
        "    def perform_n_step_gradient_descent_minimize_along_a_line(self,N):\n",
        "        display(Markdown(r\"$\\large{\\alpha = -\\frac{g^{T}P}{P^{T}HP}}$ \"))\n",
        "        display(Markdown(\n",
        "            r\"Direction of P is opposite of gradient. This means: <br/><br/>   $\\large{\\alpha = -\\frac{g^{T}(-g)}{(-g)^{T}H(-g)}}$ \"))\n",
        "        current_x = x0\n",
        "        for k in range(N):\n",
        "            self.calculate_numerical_values(current_x)\n",
        "            self.calculate_alpha_minimize_along_a_line(-self.g_value)\n",
        "            self.calculate_next_step(self.alpha, -self.g_value)\n",
        "            display(Markdown(f\"Function value at $X_{k}$ : \" + convert_to_latex(self.f_value, f\"f_{k} = \", \"\", \"$\")))\n",
        "            display(Markdown(f\"Gradient at $X_{k}$ : \" + convert_to_latex(self.g_value, f\"g_{k} = \", \"\", \"$\")))\n",
        "            display(Markdown(f\"Hessian at $X_{k}$ : \" + convert_to_latex(self.h_value, f\"H_{k} = \", \"\", \"$\")))\n",
        "            display(Markdown(convert_to_latex(self.alpha, f\" \\\\alpha_{k} =\", \"\", \"$\")))\n",
        "            display(Markdown(f\" $X_{k + 1} = X_{k}+\\\\alpha_{k}*(-g_{k})$\"))\n",
        "            display(Markdown(convert_to_latex(self.next_x_values, f\" X_{k + 1} =\", r' ', \"$\")))\n",
        "            current_x = self.next_x_values\n",
        "\n",
        "    def perform_n_step_gradient_descent_given_alpha(self, alpha,N):\n",
        "        current_x = x0\n",
        "        for k in range(3):\n",
        "            self.calculate_numerical_values(current_x)\n",
        "            self.calculate_next_step(alpha, -self.g_value)\n",
        "            display(Markdown(f\"Function value at $X_{k}$ : \" + convert_to_latex(self.f_value, f\"f_{k} = \", \"\", \"$\")))\n",
        "            display(Markdown(f\"Gradient at $X_{k}$ : \" + convert_to_latex(self.g_value, f\"g_{k} = \", \"\", \"$\")))\n",
        "            display(Markdown(f\"Hessian at $X_{k}$ : \" + convert_to_latex(self.h_value, f\"H_{k} = \", \"\", \"$\")))\n",
        "            display(Markdown(convert_to_latex(alpha, f\" \\\\alpha_{k} =\", \"\", \"$\")))\n",
        "            display(Markdown(f\" $X_{k + 1} = X_{k}+\\\\alpha_{k}*(-g_{k})$\"))\n",
        "            display(Markdown(convert_to_latex(self.next_x_values, f\" X_{k + 1} =\", r' ', \"$\")))\n",
        "            current_x = self.next_x_values\n",
        "\n",
        "    def perform_n_step_minimize_along_a_line_given_direction(self, p,N):\n",
        "        display(Markdown(r\"$\\large{\\alpha = -\\frac{g^{T}P}{P^{T}HP}}$ \"))\n",
        "        current_x = x0\n",
        "        for k in range(4):\n",
        "            self.calculate_numerical_values(current_x)\n",
        "            self.calculate_alpha_minimize_along_a_line(p)\n",
        "            self.calculate_next_step(self.alpha, p)\n",
        "            display(Markdown(f\"Function value at $X_{k}$ : \" + convert_to_latex(self.f_value, f\"f_{k} = \", \"\", \"$\")))\n",
        "            display(Markdown(f\"Gradient at $X_{k}$ : \" + convert_to_latex(self.g_value, f\"g_{k} = \", \"\", \"$\")))\n",
        "            display(Markdown(f\"Hessian at $X_{k}$ : \" + convert_to_latex(self.h_value, f\"H_{k} = \", \"\", \"$\")))\n",
        "            display(Markdown(convert_to_latex(self.alpha, f\" \\\\alpha_{k} =\", \"\", \"$\")))\n",
        "            display(Markdown(f\" $X_{k + 1} = X_{k}+\\\\alpha_{k}*(p{k})$\"))\n",
        "            display(Markdown(convert_to_latex(self.next_x_values, f\" X_{k + 1} =\", r' ', \"$\")))\n",
        "            current_x = self.next_x_values\n",
        "def solve_assignment_03(f,x0,p,alpha):\n",
        "    surface=TaylorSeriesAndOptimization(f)\n",
        "    surface.calculate_numerical_values(x0)\n",
        "    display(Markdown(r\"# <center> Assignment_03 Solution\"))\n",
        "    display(Markdown(r\"This is a programmatic solution for Assignment_03.<br> Note that it’s a dynamic solution—you can modify the function equation, starting point, and the number of steps. Simply run this program to compute the new values.\"))\n",
        "    display(Markdown(r\"Farhad Kamangar  2024<br><br>\"))\n",
        "    display(Markdown(r\"# Assignment_03\"))\n",
        "    display(Markdown(r\"Consider the following performance surface: <br>\"))\n",
        "    display(Math(r\"f(X) = \"+ convert_to_latex(surface.f_symbolic)))\n",
        "    display(Markdown(\"Assuming initial point:   \"+convert_to_latex(x0,r\"X_0 = \",\"\",\"$\")))\n",
        "    display(Markdown(\"and a given direction:   \"+convert_to_latex(p,r\"P = \",\"\",\"$\")))\n",
        "    #\n",
        "    ##############################################################################################################\n",
        "    #\n",
        "    display(Markdown(\"## • Find the value of the function $f(X)$ , gradient $g$, and Hessian $H$ at $X_0$ <br>\"))\n",
        "    surface.display_f_gradient_and_hessian()\n",
        "    #\n",
        "    ##############################################################################################################\n",
        "    #\n",
        "    display(Markdown(\"## • \tFind the Taylor series of this function up to the second derivatives around $X_0 $ <br>\"))\n",
        "    display(Markdown(\"## • \tWrite the Taylor series expansion of the previous step as quadratic function in matrix form.<br>\"))\n",
        "    surface.display_second_order_taylor_series()\n",
        "    #\n",
        "    ##############################################################################################################\n",
        "    #\n",
        "    display(Markdown(\"## • \tPerform two steps of gradient descent using minimization along a line (calculate α ) and show the $X_1$ and  $X_2$ positions and the value of the of the function after each step. <br>\"))\n",
        "    surface.perform_n_step_gradient_descent_minimize_along_a_line(3)\n",
        "    #\n",
        "    ##############################################################################################################\n",
        "    #\n",
        "    display(Markdown(r\"## • Perform two steps of gradient descent using $\\alpha=0.1$ and show the $X_1$ and  $X_2$ positions and the value of the of the function after each step.. <br>\"))\n",
        "    surface.perform_n_step_gradient_descent_given_alpha(alpha, 3)\n",
        "    #\n",
        "    ##############################################################################################################\n",
        "    #\n",
        "    display(Markdown(r\"## • Perform one step of minimization in the direction of P and show the value $X_1$ and the value of the function after the step.. <br>\"))\n",
        "    surface.perform_n_step_minimize_along_a_line_given_direction(p, 3)\n",
        "f=\"2*x1**4-4*x2**4+6*(x1**3)*(x2**2)*(x3**3)-8*x1*x3+10*x3\"\n",
        "x0=np.array([-1,2,3]).reshape(3,1)\n",
        "p=np.array([4,-5,6]).reshape(3,1)\n",
        "alpha=0.1\n",
        "solve_assignment_03(f,x0,p,alpha)"
      ]
    }
  ]
}
