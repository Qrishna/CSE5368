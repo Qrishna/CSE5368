{
  "nbformat": 4,
  "nbformat_minor": 0,
  "metadata": {
    "colab": {
      "provenance": [],
      "collapsed_sections": [],
      "authorship_tag": "ABX9TyM0q/icjcYtP3uo8W2Iqp+S",
      "include_colab_link": true
    },
    "kernelspec": {
      "name": "python3",
      "display_name": "Python 3"
    },
    "language_info": {
      "name": "python"
    }
  },
  "cells": [
    {
      "cell_type": "markdown",
      "metadata": {
        "id": "view-in-github",
        "colab_type": "text"
      },
      "source": [
        "<a href=\"https://colab.research.google.com/github/farhadkamangar/CSE5368/blob/master/tensorflow_multi_layer_example.ipynb\" target=\"_parent\"><img src=\"https://colab.research.google.com/assets/colab-badge.svg\" alt=\"Open In Colab\"/></a>"
      ]
    },
    {
      "cell_type": "code",
      "execution_count": 2,
      "metadata": {
        "id": "QaCEGTiu9vo2"
      },
      "outputs": [],
      "source": [
        "import tensorflow as tf\n",
        "from datetime import datetime\n",
        "\n",
        "%load_ext tensorboard"
      ]
    },
    {
      "cell_type": "code",
      "source": [
        "class DenseLayer(tf.Module):\n",
        "  def __init__(self, input_dimension, number_of_nodes, name=None):\n",
        "    super().__init__(name=name)\n",
        "    self.w = tf.Variable(\n",
        "      tf.random.normal([input_dimension, number_of_nodes]), name='weights')\n",
        "    self.b = tf.Variable(tf.zeros([number_of_nodes]), name='biases')\n",
        "  def calculate_output(self, x):\n",
        "    y = tf.matmul(x, self.w) + self.b\n",
        "    return tf.nn.relu(y)"
      ],
      "metadata": {
        "id": "tgwA1djO-rHq"
      },
      "execution_count": 3,
      "outputs": []
    },
    {
      "cell_type": "code",
      "source": [
        "class MultiLayer_NN(tf.Module):\n",
        "  def __init__(self, name=None):\n",
        "    super().__init__(name=name)\n",
        "\n",
        "    self.layer_1 = DenseLayer(input_dimension=3, number_of_nodes=3)\n",
        "    self.layer_2 = DenseLayer(input_dimension=3, number_of_nodes=6)\n",
        "\n",
        "  def __call__(self, x):\n",
        "    x = self.layer_1.calculate_output(x)\n",
        "    return self.layer_2.calculate_output(x)\n",
        "\n",
        "# You have made a model!\n",
        "my_model = MultiLayer_NN(name=\"the_model\")\n",
        "\n",
        "# Call it, with random results\n",
        "print(\"Model results:\", my_model(tf.constant([[2.0, 2.0, 2.0]])))\n",
        "print(\"Weights \", my_model.layer_2.w)\n",
        "print(\"Submodules:\", my_model.submodules)\n",
        "for var in my_model.variables:\n",
        "  print(var, \"\\n\")"
      ],
      "metadata": {
        "colab": {
          "base_uri": "https://localhost:8080/"
        },
        "id": "1tAP58ldACAB",
        "outputId": "35b6fea5-bc6f-4fa4-837b-6c5f5552d8f6"
      },
      "execution_count": 16,
      "outputs": [
        {
          "output_type": "stream",
          "name": "stdout",
          "text": [
            "Model results: tf.Tensor([[ 3.3240354  0.         5.936384   0.         4.940175  11.829053 ]], shape=(1, 6), dtype=float32)\n",
            "Weights  <tf.Variable 'weights:0' shape=(3, 6) dtype=float32, numpy=\n",
            "array([[ 0.8721237 , -0.10960671,  0.96784043, -0.12975301,  1.4159669 ,\n",
            "        -0.62478286],\n",
            "       [-0.27331188, -0.7469185 ,  1.3878955 ,  0.7425421 ,  0.13886489,\n",
            "        -0.63346016],\n",
            "       [ 0.35855648, -0.23694906,  0.8342599 , -1.3569158 ,  0.49348417,\n",
            "         2.5020318 ]], dtype=float32)>\n",
            "Submodules: (<__main__.DenseLayer object at 0x7f1eed16c990>, <__main__.DenseLayer object at 0x7f1eed16c710>)\n",
            "<tf.Variable 'biases:0' shape=(3,) dtype=float32, numpy=array([0., 0., 0.], dtype=float32)> \n",
            "\n",
            "<tf.Variable 'weights:0' shape=(3, 3) dtype=float32, numpy=\n",
            "array([[-1.1952347 ,  1.1689026 ,  1.3443784 ],\n",
            "       [ 1.5287184 , -0.7772326 , -0.01542287],\n",
            "       [ 0.51341724, -1.0981852 ,  1.2464136 ]], dtype=float32)> \n",
            "\n",
            "<tf.Variable 'biases:0' shape=(6,) dtype=float32, numpy=array([0., 0., 0., 0., 0., 0.], dtype=float32)> \n",
            "\n",
            "<tf.Variable 'weights:0' shape=(3, 6) dtype=float32, numpy=\n",
            "array([[ 0.8721237 , -0.10960671,  0.96784043, -0.12975301,  1.4159669 ,\n",
            "        -0.62478286],\n",
            "       [-0.27331188, -0.7469185 ,  1.3878955 ,  0.7425421 ,  0.13886489,\n",
            "        -0.63346016],\n",
            "       [ 0.35855648, -0.23694906,  0.8342599 , -1.3569158 ,  0.49348417,\n",
            "         2.5020318 ]], dtype=float32)> \n",
            "\n"
          ]
        }
      ]
    },
    {
      "cell_type": "code",
      "source": [
        "class FlexibleDenseLayer(tf.Module):\n",
        "  def __init__(self, number_of_nodes, name=None):\n",
        "    super().__init__(name=name)\n",
        "    self.first_time=True\n",
        "    self.number_of_nodes=number_of_nodes\n",
        "    \n",
        "  def calculate_output(self, x):\n",
        "    if self.first_time:\n",
        "      self.w = tf.Variable(tf.random.normal([x.shape[-1], self.number_of_nodes]), name='weights')\n",
        "      self.b = tf.Variable(tf.zeros([self.number_of_nodes]), name='biases')\n",
        "      self.first_time=False\n",
        "    y = tf.matmul(x, self.w) + self.b\n",
        "    # return tf.nn.hard_tanh(y)\n",
        "    # return tf.nn.relu(y)\n",
        "    return y"
      ],
      "metadata": {
        "id": "QkAjRF4ODFGA"
      },
      "execution_count": 18,
      "outputs": []
    },
    {
      "cell_type": "code",
      "source": [
        "class MultiLayer_NN(tf.Module):\n",
        "  def __init__(self, name=None):\n",
        "    super().__init__(name=name)\n",
        "\n",
        "    self.layer_1 = FlexibleDenseLayer(number_of_nodes=3)\n",
        "    self.layer_2 = FlexibleDenseLayer(number_of_nodes=5)\n",
        "\n",
        "  def __call__(self, x):\n",
        "    x = self.layer_1.calculate_output(x)\n",
        "    return self.layer_2.calculate_output(x)\n",
        "\n",
        "# You have made a model!\n",
        "my_model = MultiLayer_NN(name=\"the_model\")\n",
        "\n",
        "# Call it, with random results\n",
        "print(\"Model results:\", my_model(tf.constant([[2.0, 2.0, 2.0]])))\n",
        "print(\"Weights \", my_model.layer_2.w)\n",
        "print(\"Submodules:\", my_model.submodules)\n",
        "for var in my_model.variables:\n",
        "  print(var, \"\\n\")"
      ],
      "metadata": {
        "colab": {
          "base_uri": "https://localhost:8080/"
        },
        "id": "zKeRMW2qF63M",
        "outputId": "85a86298-6c77-4870-a7d1-20263e719435"
      },
      "execution_count": 29,
      "outputs": [
        {
          "output_type": "stream",
          "name": "stdout",
          "text": [
            "Model results: tf.Tensor([[-1.8583658  4.2238026  1.9643538 -0.4884634  4.536718 ]], shape=(1, 5), dtype=float32)\n",
            "Weights  <tf.Variable 'weights:0' shape=(3, 5) dtype=float32, numpy=\n",
            "array([[-0.1492263 ,  0.9969619 , -0.46697536, -0.05895721, -0.4458336 ],\n",
            "       [-0.48961434, -0.8972078 , -1.9212656 , -0.6093035 , -1.3387625 ],\n",
            "       [ 1.8825271 , -2.0720181 ,  1.570494  ,  1.1322998 , -0.79636824]],\n",
            "      dtype=float32)>\n",
            "Submodules: (<__main__.FlexibleDenseLayer object at 0x7f1eecfd2750>, <__main__.FlexibleDenseLayer object at 0x7f1eecfd2250>)\n",
            "<tf.Variable 'biases:0' shape=(3,) dtype=float32, numpy=array([0., 0., 0.], dtype=float32)> \n",
            "\n",
            "<tf.Variable 'weights:0' shape=(3, 3) dtype=float32, numpy=\n",
            "array([[-0.12552713, -0.13028823, -1.7574427 ],\n",
            "       [-0.52977663,  0.8169243 ,  0.9981878 ],\n",
            "       [ 0.15518194, -1.7350601 , -0.04664988]], dtype=float32)> \n",
            "\n",
            "<tf.Variable 'biases:0' shape=(5,) dtype=float32, numpy=array([0., 0., 0., 0., 0.], dtype=float32)> \n",
            "\n",
            "<tf.Variable 'weights:0' shape=(3, 5) dtype=float32, numpy=\n",
            "array([[-0.1492263 ,  0.9969619 , -0.46697536, -0.05895721, -0.4458336 ],\n",
            "       [-0.48961434, -0.8972078 , -1.9212656 , -0.6093035 , -1.3387625 ],\n",
            "       [ 1.8825271 , -2.0720181 ,  1.570494  ,  1.1322998 , -0.79636824]],\n",
            "      dtype=float32)> \n",
            "\n"
          ]
        }
      ]
    },
    {
      "cell_type": "code",
      "source": [
        "chkp_path = \"my_checkpoint\"\n",
        "checkpoint = tf.train.Checkpoint(model=my_model)\n",
        "checkpoint.write(chkp_path)"
      ],
      "metadata": {
        "colab": {
          "base_uri": "https://localhost:8080/",
          "height": 35
        },
        "id": "9_dJy3WlGr2C",
        "outputId": "cd997e1d-5c0d-45bb-d5f0-deb41a8fa86b"
      },
      "execution_count": 30,
      "outputs": [
        {
          "output_type": "execute_result",
          "data": {
            "text/plain": [
              "'my_checkpoint'"
            ],
            "application/vnd.google.colaboratory.intrinsic+json": {
              "type": "string"
            }
          },
          "metadata": {},
          "execution_count": 30
        }
      ]
    },
    {
      "cell_type": "code",
      "source": [
        "ls my_checkpoint*"
      ],
      "metadata": {
        "colab": {
          "base_uri": "https://localhost:8080/"
        },
        "id": "HMgNp95QGzHq",
        "outputId": "102b179a-5c64-41b3-c27b-42ac26dd457d"
      },
      "execution_count": 31,
      "outputs": [
        {
          "output_type": "stream",
          "name": "stdout",
          "text": [
            "my_checkpoint.data-00000-of-00001  my_checkpoint.index\n"
          ]
        }
      ]
    },
    {
      "cell_type": "code",
      "source": [
        "tf.train.list_variables(chkp_path)"
      ],
      "metadata": {
        "colab": {
          "base_uri": "https://localhost:8080/"
        },
        "id": "ryNWnc7yHM7M",
        "outputId": "39fa20da-af90-40fb-af42-85e2e2bf41cb"
      },
      "execution_count": 32,
      "outputs": [
        {
          "output_type": "execute_result",
          "data": {
            "text/plain": [
              "[('_CHECKPOINTABLE_OBJECT_GRAPH', []),\n",
              " ('model/layer_1/b/.ATTRIBUTES/VARIABLE_VALUE', [3]),\n",
              " ('model/layer_1/w/.ATTRIBUTES/VARIABLE_VALUE', [3, 3]),\n",
              " ('model/layer_2/b/.ATTRIBUTES/VARIABLE_VALUE', [5]),\n",
              " ('model/layer_2/w/.ATTRIBUTES/VARIABLE_VALUE', [3, 5])]"
            ]
          },
          "metadata": {},
          "execution_count": 32
        }
      ]
    },
    {
      "cell_type": "code",
      "source": [
        "new_model = MultiLayer_NN()\n",
        "new_checkpoint = tf.train.Checkpoint(model=new_model)\n",
        "new_checkpoint.restore(\"my_checkpoint\")\n",
        "\n",
        "for var in my_model.variables:\n",
        "  print(var, \"\\n\")"
      ],
      "metadata": {
        "colab": {
          "base_uri": "https://localhost:8080/"
        },
        "id": "vufvZuxvHkwa",
        "outputId": "40651177-4df6-49e9-c7bb-d81b9e666fef"
      },
      "execution_count": 34,
      "outputs": [
        {
          "output_type": "stream",
          "name": "stdout",
          "text": [
            "<tf.Variable 'biases:0' shape=(3,) dtype=float32, numpy=array([0., 0., 0.], dtype=float32)> \n",
            "\n",
            "<tf.Variable 'weights:0' shape=(3, 3) dtype=float32, numpy=\n",
            "array([[-0.12552713, -0.13028823, -1.7574427 ],\n",
            "       [-0.52977663,  0.8169243 ,  0.9981878 ],\n",
            "       [ 0.15518194, -1.7350601 , -0.04664988]], dtype=float32)> \n",
            "\n",
            "<tf.Variable 'biases:0' shape=(5,) dtype=float32, numpy=array([0., 0., 0., 0., 0.], dtype=float32)> \n",
            "\n",
            "<tf.Variable 'weights:0' shape=(3, 5) dtype=float32, numpy=\n",
            "array([[-0.1492263 ,  0.9969619 , -0.46697536, -0.05895721, -0.4458336 ],\n",
            "       [-0.48961434, -0.8972078 , -1.9212656 , -0.6093035 , -1.3387625 ],\n",
            "       [ 1.8825271 , -2.0720181 ,  1.570494  ,  1.1322998 , -0.79636824]],\n",
            "      dtype=float32)> \n",
            "\n"
          ]
        }
      ]
    }
  ]
}